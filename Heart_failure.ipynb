{
  "nbformat": 4,
  "nbformat_minor": 0,
  "metadata": {
    "colab": {
      "name": "Heart_failure.ipynb",
      "provenance": [],
      "authorship_tag": "ABX9TyMfrGGFmc+PBHbOoo/1aapb",
      "include_colab_link": true
    },
    "kernelspec": {
      "name": "python3",
      "display_name": "Python 3"
    },
    "language_info": {
      "name": "python"
    }
  },
  "cells": [
    {
      "cell_type": "markdown",
      "metadata": {
        "id": "view-in-github",
        "colab_type": "text"
      },
      "source": [
        "<a href=\"https://colab.research.google.com/github/Avijitma123/Cnacer-Predictor-GUI-using-ML/blob/master/Heart_failure.ipynb\" target=\"_parent\"><img src=\"https://colab.research.google.com/assets/colab-badge.svg\" alt=\"Open In Colab\"/></a>"
      ]
    },
    {
      "cell_type": "code",
      "metadata": {
        "colab": {
          "base_uri": "https://localhost:8080/",
          "height": 224
        },
        "id": "zX6Ch5PQhznD",
        "outputId": "c87b7b01-d7b9-4dc6-b89f-2ad813325644"
      },
      "source": [
        "import numpy as np\n",
        "import matplotlib.pyplot as plt\n",
        "import pandas as pd\n",
        "from keras.models import Sequential\n",
        "from keras.layers import Dense\n",
        "from keras.wrappers.scikit_learn import KerasRegressor\n",
        "from sklearn.model_selection import cross_val_score\n",
        "from sklearn.model_selection import KFold\n",
        "from sklearn import preprocessing\n",
        "df=pd.read_csv('heart_failure.csv')\n",
        "df.head()\n"
      ],
      "execution_count": 10,
      "outputs": [
        {
          "output_type": "execute_result",
          "data": {
            "text/html": [
              "<div>\n",
              "<style scoped>\n",
              "    .dataframe tbody tr th:only-of-type {\n",
              "        vertical-align: middle;\n",
              "    }\n",
              "\n",
              "    .dataframe tbody tr th {\n",
              "        vertical-align: top;\n",
              "    }\n",
              "\n",
              "    .dataframe thead th {\n",
              "        text-align: right;\n",
              "    }\n",
              "</style>\n",
              "<table border=\"1\" class=\"dataframe\">\n",
              "  <thead>\n",
              "    <tr style=\"text-align: right;\">\n",
              "      <th></th>\n",
              "      <th>age</th>\n",
              "      <th>anaemia</th>\n",
              "      <th>creatinine_phosphokinase</th>\n",
              "      <th>diabetes</th>\n",
              "      <th>ejection_fraction</th>\n",
              "      <th>high_blood_pressure</th>\n",
              "      <th>platelets</th>\n",
              "      <th>serum_creatinine</th>\n",
              "      <th>serum_sodium</th>\n",
              "      <th>sex</th>\n",
              "      <th>smoking</th>\n",
              "      <th>time</th>\n",
              "      <th>DEATH_EVENT</th>\n",
              "    </tr>\n",
              "  </thead>\n",
              "  <tbody>\n",
              "    <tr>\n",
              "      <th>0</th>\n",
              "      <td>75.0</td>\n",
              "      <td>0</td>\n",
              "      <td>582</td>\n",
              "      <td>0</td>\n",
              "      <td>20</td>\n",
              "      <td>1</td>\n",
              "      <td>265000.00</td>\n",
              "      <td>1.9</td>\n",
              "      <td>130</td>\n",
              "      <td>1</td>\n",
              "      <td>0</td>\n",
              "      <td>4</td>\n",
              "      <td>1</td>\n",
              "    </tr>\n",
              "    <tr>\n",
              "      <th>1</th>\n",
              "      <td>55.0</td>\n",
              "      <td>0</td>\n",
              "      <td>7861</td>\n",
              "      <td>0</td>\n",
              "      <td>38</td>\n",
              "      <td>0</td>\n",
              "      <td>263358.03</td>\n",
              "      <td>1.1</td>\n",
              "      <td>136</td>\n",
              "      <td>1</td>\n",
              "      <td>0</td>\n",
              "      <td>6</td>\n",
              "      <td>1</td>\n",
              "    </tr>\n",
              "    <tr>\n",
              "      <th>2</th>\n",
              "      <td>65.0</td>\n",
              "      <td>0</td>\n",
              "      <td>146</td>\n",
              "      <td>0</td>\n",
              "      <td>20</td>\n",
              "      <td>0</td>\n",
              "      <td>162000.00</td>\n",
              "      <td>1.3</td>\n",
              "      <td>129</td>\n",
              "      <td>1</td>\n",
              "      <td>1</td>\n",
              "      <td>7</td>\n",
              "      <td>1</td>\n",
              "    </tr>\n",
              "    <tr>\n",
              "      <th>3</th>\n",
              "      <td>50.0</td>\n",
              "      <td>1</td>\n",
              "      <td>111</td>\n",
              "      <td>0</td>\n",
              "      <td>20</td>\n",
              "      <td>0</td>\n",
              "      <td>210000.00</td>\n",
              "      <td>1.9</td>\n",
              "      <td>137</td>\n",
              "      <td>1</td>\n",
              "      <td>0</td>\n",
              "      <td>7</td>\n",
              "      <td>1</td>\n",
              "    </tr>\n",
              "    <tr>\n",
              "      <th>4</th>\n",
              "      <td>65.0</td>\n",
              "      <td>1</td>\n",
              "      <td>160</td>\n",
              "      <td>1</td>\n",
              "      <td>20</td>\n",
              "      <td>0</td>\n",
              "      <td>327000.00</td>\n",
              "      <td>2.7</td>\n",
              "      <td>116</td>\n",
              "      <td>0</td>\n",
              "      <td>0</td>\n",
              "      <td>8</td>\n",
              "      <td>1</td>\n",
              "    </tr>\n",
              "  </tbody>\n",
              "</table>\n",
              "</div>"
            ],
            "text/plain": [
              "    age  anaemia  creatinine_phosphokinase  ...  smoking  time  DEATH_EVENT\n",
              "0  75.0        0                       582  ...        0     4            1\n",
              "1  55.0        0                      7861  ...        0     6            1\n",
              "2  65.0        0                       146  ...        1     7            1\n",
              "3  50.0        1                       111  ...        0     7            1\n",
              "4  65.0        1                       160  ...        0     8            1\n",
              "\n",
              "[5 rows x 13 columns]"
            ]
          },
          "metadata": {
            "tags": []
          },
          "execution_count": 10
        }
      ]
    },
    {
      "cell_type": "code",
      "metadata": {
        "id": "-XFwOF3mjzfq"
      },
      "source": [
        "x=df.iloc[:,0:13]\n",
        "y=df.iloc[:,12:]\n"
      ],
      "execution_count": null,
      "outputs": []
    },
    {
      "cell_type": "markdown",
      "metadata": {
        "id": "qwi9-M0Ml17b"
      },
      "source": [
        "scale the input data "
      ]
    },
    {
      "cell_type": "code",
      "metadata": {
        "id": "bOLsmVOpmK0u"
      },
      "source": [
        "min_max_scaler = preprocessing.MinMaxScaler()\n",
        "X_scale = min_max_scaler.fit_transform(x)"
      ],
      "execution_count": 12,
      "outputs": []
    },
    {
      "cell_type": "markdown",
      "metadata": {
        "id": "IREHMkwHmf6O"
      },
      "source": [
        "Split data into train and test"
      ]
    },
    {
      "cell_type": "code",
      "metadata": {
        "id": "i0bKOSFYmmn0"
      },
      "source": [
        "from sklearn.model_selection import train_test_split\n",
        "X_train, X_val_and_test, Y_train, Y_val_and_test = train_test_split(X_scale, y, test_size=0.3)\n",
        "X_val, X_test, Y_val, Y_test = train_test_split(X_val_and_test, Y_val_and_test, test_size=0.5)"
      ],
      "execution_count": 16,
      "outputs": []
    },
    {
      "cell_type": "code",
      "metadata": {
        "colab": {
          "base_uri": "https://localhost:8080/"
        },
        "id": "hgpmq5Ammxz8",
        "outputId": "f24580d4-4b09-4cd9-db81-4f428091f1b6"
      },
      "source": [
        "from keras.models import Sequential\n",
        "from keras.layers import Dense\n",
        "model = Sequential([\n",
        "    Dense(32, activation='relu', input_shape=(13,)),\n",
        "    Dense(32, activation='relu'),\n",
        "    Dense(1, activation='sigmoid'),\n",
        "])\n",
        "model.compile(optimizer='sgd',loss='binary_crossentropy',metrics=['accuracy'])\n",
        "hist=model.fit(X_train, Y_train,batch_size=32, epochs=100,validation_data=(X_val, Y_val))"
      ],
      "execution_count": 21,
      "outputs": [
        {
          "output_type": "stream",
          "text": [
            "Epoch 1/100\n",
            "7/7 [==============================] - 1s 30ms/step - loss: 0.7177 - accuracy: 0.3623 - val_loss: 0.7032 - val_accuracy: 0.4889\n",
            "Epoch 2/100\n",
            "7/7 [==============================] - 0s 7ms/step - loss: 0.7137 - accuracy: 0.4072 - val_loss: 0.6885 - val_accuracy: 0.4889\n",
            "Epoch 3/100\n",
            "7/7 [==============================] - 0s 7ms/step - loss: 0.7046 - accuracy: 0.4432 - val_loss: 0.6751 - val_accuracy: 0.5778\n",
            "Epoch 4/100\n",
            "7/7 [==============================] - 0s 8ms/step - loss: 0.6853 - accuracy: 0.5948 - val_loss: 0.6633 - val_accuracy: 0.6000\n",
            "Epoch 5/100\n",
            "7/7 [==============================] - 0s 7ms/step - loss: 0.6894 - accuracy: 0.5792 - val_loss: 0.6521 - val_accuracy: 0.6667\n",
            "Epoch 6/100\n",
            "7/7 [==============================] - 0s 9ms/step - loss: 0.6717 - accuracy: 0.6456 - val_loss: 0.6420 - val_accuracy: 0.7111\n",
            "Epoch 7/100\n",
            "7/7 [==============================] - 0s 8ms/step - loss: 0.6530 - accuracy: 0.6817 - val_loss: 0.6328 - val_accuracy: 0.7333\n",
            "Epoch 8/100\n",
            "7/7 [==============================] - 0s 8ms/step - loss: 0.6572 - accuracy: 0.6717 - val_loss: 0.6244 - val_accuracy: 0.7333\n",
            "Epoch 9/100\n",
            "7/7 [==============================] - 0s 9ms/step - loss: 0.6615 - accuracy: 0.6245 - val_loss: 0.6162 - val_accuracy: 0.7333\n",
            "Epoch 10/100\n",
            "7/7 [==============================] - 0s 8ms/step - loss: 0.6441 - accuracy: 0.6630 - val_loss: 0.6087 - val_accuracy: 0.7333\n",
            "Epoch 11/100\n",
            "7/7 [==============================] - 0s 9ms/step - loss: 0.6320 - accuracy: 0.6792 - val_loss: 0.6014 - val_accuracy: 0.7333\n",
            "Epoch 12/100\n",
            "7/7 [==============================] - 0s 9ms/step - loss: 0.6275 - accuracy: 0.6846 - val_loss: 0.5950 - val_accuracy: 0.7333\n",
            "Epoch 13/100\n",
            "7/7 [==============================] - 0s 8ms/step - loss: 0.6302 - accuracy: 0.6503 - val_loss: 0.5887 - val_accuracy: 0.7333\n",
            "Epoch 14/100\n",
            "7/7 [==============================] - 0s 8ms/step - loss: 0.6215 - accuracy: 0.6634 - val_loss: 0.5824 - val_accuracy: 0.7333\n",
            "Epoch 15/100\n",
            "7/7 [==============================] - 0s 8ms/step - loss: 0.6031 - accuracy: 0.6944 - val_loss: 0.5769 - val_accuracy: 0.7333\n",
            "Epoch 16/100\n",
            "7/7 [==============================] - 0s 7ms/step - loss: 0.6206 - accuracy: 0.6424 - val_loss: 0.5712 - val_accuracy: 0.7333\n",
            "Epoch 17/100\n",
            "7/7 [==============================] - 0s 8ms/step - loss: 0.6081 - accuracy: 0.6623 - val_loss: 0.5658 - val_accuracy: 0.7333\n",
            "Epoch 18/100\n",
            "7/7 [==============================] - 0s 8ms/step - loss: 0.5906 - accuracy: 0.6905 - val_loss: 0.5604 - val_accuracy: 0.7333\n",
            "Epoch 19/100\n",
            "7/7 [==============================] - 0s 8ms/step - loss: 0.6100 - accuracy: 0.6441 - val_loss: 0.5548 - val_accuracy: 0.7333\n",
            "Epoch 20/100\n",
            "7/7 [==============================] - 0s 8ms/step - loss: 0.5946 - accuracy: 0.6683 - val_loss: 0.5494 - val_accuracy: 0.7333\n",
            "Epoch 21/100\n",
            "7/7 [==============================] - 0s 8ms/step - loss: 0.6026 - accuracy: 0.6478 - val_loss: 0.5442 - val_accuracy: 0.7333\n",
            "Epoch 22/100\n",
            "7/7 [==============================] - 0s 7ms/step - loss: 0.5757 - accuracy: 0.6832 - val_loss: 0.5393 - val_accuracy: 0.7333\n",
            "Epoch 23/100\n",
            "7/7 [==============================] - 0s 7ms/step - loss: 0.5795 - accuracy: 0.6590 - val_loss: 0.5344 - val_accuracy: 0.7333\n",
            "Epoch 24/100\n",
            "7/7 [==============================] - 0s 7ms/step - loss: 0.5716 - accuracy: 0.6810 - val_loss: 0.5296 - val_accuracy: 0.7333\n",
            "Epoch 25/100\n",
            "7/7 [==============================] - 0s 7ms/step - loss: 0.5612 - accuracy: 0.6820 - val_loss: 0.5248 - val_accuracy: 0.7333\n",
            "Epoch 26/100\n",
            "7/7 [==============================] - 0s 8ms/step - loss: 0.5681 - accuracy: 0.6676 - val_loss: 0.5198 - val_accuracy: 0.7333\n",
            "Epoch 27/100\n",
            "7/7 [==============================] - 0s 7ms/step - loss: 0.5552 - accuracy: 0.6883 - val_loss: 0.5150 - val_accuracy: 0.7333\n",
            "Epoch 28/100\n",
            "7/7 [==============================] - 0s 7ms/step - loss: 0.5457 - accuracy: 0.6929 - val_loss: 0.5104 - val_accuracy: 0.7333\n",
            "Epoch 29/100\n",
            "7/7 [==============================] - 0s 7ms/step - loss: 0.5502 - accuracy: 0.6776 - val_loss: 0.5054 - val_accuracy: 0.7333\n",
            "Epoch 30/100\n",
            "7/7 [==============================] - 0s 8ms/step - loss: 0.5452 - accuracy: 0.6728 - val_loss: 0.5002 - val_accuracy: 0.7333\n",
            "Epoch 31/100\n",
            "7/7 [==============================] - 0s 9ms/step - loss: 0.5679 - accuracy: 0.6375 - val_loss: 0.4950 - val_accuracy: 0.7333\n",
            "Epoch 32/100\n",
            "7/7 [==============================] - 0s 8ms/step - loss: 0.5511 - accuracy: 0.6556 - val_loss: 0.4897 - val_accuracy: 0.7333\n",
            "Epoch 33/100\n",
            "7/7 [==============================] - 0s 8ms/step - loss: 0.5507 - accuracy: 0.6513 - val_loss: 0.4848 - val_accuracy: 0.7333\n",
            "Epoch 34/100\n",
            "7/7 [==============================] - 0s 9ms/step - loss: 0.5333 - accuracy: 0.6600 - val_loss: 0.4797 - val_accuracy: 0.7333\n",
            "Epoch 35/100\n",
            "7/7 [==============================] - 0s 8ms/step - loss: 0.5274 - accuracy: 0.6758 - val_loss: 0.4745 - val_accuracy: 0.7333\n",
            "Epoch 36/100\n",
            "7/7 [==============================] - 0s 8ms/step - loss: 0.5277 - accuracy: 0.6612 - val_loss: 0.4690 - val_accuracy: 0.7333\n",
            "Epoch 37/100\n",
            "7/7 [==============================] - 0s 7ms/step - loss: 0.5279 - accuracy: 0.6502 - val_loss: 0.4635 - val_accuracy: 0.7333\n",
            "Epoch 38/100\n",
            "7/7 [==============================] - 0s 7ms/step - loss: 0.5320 - accuracy: 0.6441 - val_loss: 0.4581 - val_accuracy: 0.7333\n",
            "Epoch 39/100\n",
            "7/7 [==============================] - 0s 8ms/step - loss: 0.5018 - accuracy: 0.6774 - val_loss: 0.4527 - val_accuracy: 0.7333\n",
            "Epoch 40/100\n",
            "7/7 [==============================] - 0s 8ms/step - loss: 0.4899 - accuracy: 0.6903 - val_loss: 0.4472 - val_accuracy: 0.7556\n",
            "Epoch 41/100\n",
            "7/7 [==============================] - 0s 8ms/step - loss: 0.4891 - accuracy: 0.6908 - val_loss: 0.4413 - val_accuracy: 0.7556\n",
            "Epoch 42/100\n",
            "7/7 [==============================] - 0s 7ms/step - loss: 0.4766 - accuracy: 0.7053 - val_loss: 0.4357 - val_accuracy: 0.7556\n",
            "Epoch 43/100\n",
            "7/7 [==============================] - 0s 7ms/step - loss: 0.4789 - accuracy: 0.6903 - val_loss: 0.4299 - val_accuracy: 0.7556\n",
            "Epoch 44/100\n",
            "7/7 [==============================] - 0s 7ms/step - loss: 0.4762 - accuracy: 0.6932 - val_loss: 0.4240 - val_accuracy: 0.7556\n",
            "Epoch 45/100\n",
            "7/7 [==============================] - 0s 8ms/step - loss: 0.4680 - accuracy: 0.6992 - val_loss: 0.4182 - val_accuracy: 0.7556\n",
            "Epoch 46/100\n",
            "7/7 [==============================] - 0s 7ms/step - loss: 0.4587 - accuracy: 0.7213 - val_loss: 0.4120 - val_accuracy: 0.7556\n",
            "Epoch 47/100\n",
            "7/7 [==============================] - 0s 8ms/step - loss: 0.4699 - accuracy: 0.6858 - val_loss: 0.4057 - val_accuracy: 0.7556\n",
            "Epoch 48/100\n",
            "7/7 [==============================] - 0s 9ms/step - loss: 0.4527 - accuracy: 0.7307 - val_loss: 0.3992 - val_accuracy: 0.7778\n",
            "Epoch 49/100\n",
            "7/7 [==============================] - 0s 8ms/step - loss: 0.4426 - accuracy: 0.7402 - val_loss: 0.3924 - val_accuracy: 0.8000\n",
            "Epoch 50/100\n",
            "7/7 [==============================] - 0s 9ms/step - loss: 0.4304 - accuracy: 0.7600 - val_loss: 0.3857 - val_accuracy: 0.8444\n",
            "Epoch 51/100\n",
            "7/7 [==============================] - 0s 8ms/step - loss: 0.4131 - accuracy: 0.7944 - val_loss: 0.3790 - val_accuracy: 0.8444\n",
            "Epoch 52/100\n",
            "7/7 [==============================] - 0s 8ms/step - loss: 0.4347 - accuracy: 0.7668 - val_loss: 0.3722 - val_accuracy: 0.9111\n",
            "Epoch 53/100\n",
            "7/7 [==============================] - 0s 9ms/step - loss: 0.4151 - accuracy: 0.7919 - val_loss: 0.3653 - val_accuracy: 0.9111\n",
            "Epoch 54/100\n",
            "7/7 [==============================] - 0s 7ms/step - loss: 0.4172 - accuracy: 0.7944 - val_loss: 0.3584 - val_accuracy: 0.9333\n",
            "Epoch 55/100\n",
            "7/7 [==============================] - 0s 7ms/step - loss: 0.4037 - accuracy: 0.8119 - val_loss: 0.3513 - val_accuracy: 0.9556\n",
            "Epoch 56/100\n",
            "7/7 [==============================] - 0s 7ms/step - loss: 0.3949 - accuracy: 0.8251 - val_loss: 0.3441 - val_accuracy: 0.9556\n",
            "Epoch 57/100\n",
            "7/7 [==============================] - 0s 7ms/step - loss: 0.3940 - accuracy: 0.8190 - val_loss: 0.3373 - val_accuracy: 0.9556\n",
            "Epoch 58/100\n",
            "7/7 [==============================] - 0s 8ms/step - loss: 0.3693 - accuracy: 0.8747 - val_loss: 0.3302 - val_accuracy: 0.9556\n",
            "Epoch 59/100\n",
            "7/7 [==============================] - 0s 8ms/step - loss: 0.3727 - accuracy: 0.8799 - val_loss: 0.3231 - val_accuracy: 0.9556\n",
            "Epoch 60/100\n",
            "7/7 [==============================] - 0s 8ms/step - loss: 0.3447 - accuracy: 0.8962 - val_loss: 0.3162 - val_accuracy: 0.9556\n",
            "Epoch 61/100\n",
            "7/7 [==============================] - 0s 8ms/step - loss: 0.3690 - accuracy: 0.9043 - val_loss: 0.3088 - val_accuracy: 0.9556\n",
            "Epoch 62/100\n",
            "7/7 [==============================] - 0s 9ms/step - loss: 0.3507 - accuracy: 0.9220 - val_loss: 0.3015 - val_accuracy: 0.9556\n",
            "Epoch 63/100\n",
            "7/7 [==============================] - 0s 9ms/step - loss: 0.3405 - accuracy: 0.9322 - val_loss: 0.2944 - val_accuracy: 1.0000\n",
            "Epoch 64/100\n",
            "7/7 [==============================] - 0s 9ms/step - loss: 0.3321 - accuracy: 0.9518 - val_loss: 0.2871 - val_accuracy: 1.0000\n",
            "Epoch 65/100\n",
            "7/7 [==============================] - 0s 8ms/step - loss: 0.3346 - accuracy: 0.9538 - val_loss: 0.2800 - val_accuracy: 1.0000\n",
            "Epoch 66/100\n",
            "7/7 [==============================] - 0s 7ms/step - loss: 0.3018 - accuracy: 0.9607 - val_loss: 0.2729 - val_accuracy: 1.0000\n",
            "Epoch 67/100\n",
            "7/7 [==============================] - 0s 8ms/step - loss: 0.2940 - accuracy: 0.9746 - val_loss: 0.2658 - val_accuracy: 1.0000\n",
            "Epoch 68/100\n",
            "7/7 [==============================] - 0s 7ms/step - loss: 0.2938 - accuracy: 0.9932 - val_loss: 0.2588 - val_accuracy: 1.0000\n",
            "Epoch 69/100\n",
            "7/7 [==============================] - 0s 9ms/step - loss: 0.2864 - accuracy: 0.9874 - val_loss: 0.2516 - val_accuracy: 1.0000\n",
            "Epoch 70/100\n",
            "7/7 [==============================] - 0s 8ms/step - loss: 0.2846 - accuracy: 0.9913 - val_loss: 0.2445 - val_accuracy: 1.0000\n",
            "Epoch 71/100\n",
            "7/7 [==============================] - 0s 8ms/step - loss: 0.2660 - accuracy: 0.9925 - val_loss: 0.2378 - val_accuracy: 1.0000\n",
            "Epoch 72/100\n",
            "7/7 [==============================] - 0s 9ms/step - loss: 0.2620 - accuracy: 0.9955 - val_loss: 0.2309 - val_accuracy: 1.0000\n",
            "Epoch 73/100\n",
            "7/7 [==============================] - 0s 8ms/step - loss: 0.2537 - accuracy: 0.9931 - val_loss: 0.2242 - val_accuracy: 1.0000\n",
            "Epoch 74/100\n",
            "7/7 [==============================] - 0s 8ms/step - loss: 0.2577 - accuracy: 0.9988 - val_loss: 0.2176 - val_accuracy: 1.0000\n",
            "Epoch 75/100\n",
            "7/7 [==============================] - 0s 8ms/step - loss: 0.2559 - accuracy: 0.9974 - val_loss: 0.2111 - val_accuracy: 1.0000\n",
            "Epoch 76/100\n",
            "7/7 [==============================] - 0s 8ms/step - loss: 0.2369 - accuracy: 0.9988 - val_loss: 0.2050 - val_accuracy: 1.0000\n",
            "Epoch 77/100\n",
            "7/7 [==============================] - 0s 9ms/step - loss: 0.2229 - accuracy: 0.9951 - val_loss: 0.1988 - val_accuracy: 1.0000\n",
            "Epoch 78/100\n",
            "7/7 [==============================] - 0s 7ms/step - loss: 0.2281 - accuracy: 0.9931 - val_loss: 0.1927 - val_accuracy: 1.0000\n",
            "Epoch 79/100\n",
            "7/7 [==============================] - 0s 7ms/step - loss: 0.2226 - accuracy: 0.9892 - val_loss: 0.1867 - val_accuracy: 1.0000\n",
            "Epoch 80/100\n",
            "7/7 [==============================] - 0s 10ms/step - loss: 0.2085 - accuracy: 0.9982 - val_loss: 0.1809 - val_accuracy: 1.0000\n",
            "Epoch 81/100\n",
            "7/7 [==============================] - 0s 8ms/step - loss: 0.2005 - accuracy: 1.0000 - val_loss: 0.1751 - val_accuracy: 1.0000\n",
            "Epoch 82/100\n",
            "7/7 [==============================] - 0s 7ms/step - loss: 0.1905 - accuracy: 1.0000 - val_loss: 0.1697 - val_accuracy: 1.0000\n",
            "Epoch 83/100\n",
            "7/7 [==============================] - 0s 7ms/step - loss: 0.1890 - accuracy: 1.0000 - val_loss: 0.1643 - val_accuracy: 1.0000\n",
            "Epoch 84/100\n",
            "7/7 [==============================] - 0s 7ms/step - loss: 0.1855 - accuracy: 1.0000 - val_loss: 0.1590 - val_accuracy: 1.0000\n",
            "Epoch 85/100\n",
            "7/7 [==============================] - 0s 8ms/step - loss: 0.1697 - accuracy: 1.0000 - val_loss: 0.1540 - val_accuracy: 1.0000\n",
            "Epoch 86/100\n",
            "7/7 [==============================] - 0s 8ms/step - loss: 0.1700 - accuracy: 1.0000 - val_loss: 0.1490 - val_accuracy: 1.0000\n",
            "Epoch 87/100\n",
            "7/7 [==============================] - 0s 11ms/step - loss: 0.1728 - accuracy: 1.0000 - val_loss: 0.1442 - val_accuracy: 1.0000\n",
            "Epoch 88/100\n",
            "7/7 [==============================] - 0s 8ms/step - loss: 0.1594 - accuracy: 1.0000 - val_loss: 0.1396 - val_accuracy: 1.0000\n",
            "Epoch 89/100\n",
            "7/7 [==============================] - 0s 7ms/step - loss: 0.1545 - accuracy: 1.0000 - val_loss: 0.1351 - val_accuracy: 1.0000\n",
            "Epoch 90/100\n",
            "7/7 [==============================] - 0s 8ms/step - loss: 0.1462 - accuracy: 1.0000 - val_loss: 0.1308 - val_accuracy: 1.0000\n",
            "Epoch 91/100\n",
            "7/7 [==============================] - 0s 7ms/step - loss: 0.1438 - accuracy: 1.0000 - val_loss: 0.1267 - val_accuracy: 1.0000\n",
            "Epoch 92/100\n",
            "7/7 [==============================] - 0s 8ms/step - loss: 0.1426 - accuracy: 1.0000 - val_loss: 0.1226 - val_accuracy: 1.0000\n",
            "Epoch 93/100\n",
            "7/7 [==============================] - 0s 10ms/step - loss: 0.1392 - accuracy: 1.0000 - val_loss: 0.1188 - val_accuracy: 1.0000\n",
            "Epoch 94/100\n",
            "7/7 [==============================] - 0s 9ms/step - loss: 0.1287 - accuracy: 1.0000 - val_loss: 0.1151 - val_accuracy: 1.0000\n",
            "Epoch 95/100\n",
            "7/7 [==============================] - 0s 8ms/step - loss: 0.1261 - accuracy: 1.0000 - val_loss: 0.1115 - val_accuracy: 1.0000\n",
            "Epoch 96/100\n",
            "7/7 [==============================] - 0s 8ms/step - loss: 0.1218 - accuracy: 1.0000 - val_loss: 0.1080 - val_accuracy: 1.0000\n",
            "Epoch 97/100\n",
            "7/7 [==============================] - 0s 8ms/step - loss: 0.1210 - accuracy: 1.0000 - val_loss: 0.1045 - val_accuracy: 1.0000\n",
            "Epoch 98/100\n",
            "7/7 [==============================] - 0s 8ms/step - loss: 0.1210 - accuracy: 1.0000 - val_loss: 0.1012 - val_accuracy: 1.0000\n",
            "Epoch 99/100\n",
            "7/7 [==============================] - 0s 8ms/step - loss: 0.1099 - accuracy: 1.0000 - val_loss: 0.0981 - val_accuracy: 1.0000\n",
            "Epoch 100/100\n",
            "7/7 [==============================] - 0s 7ms/step - loss: 0.1141 - accuracy: 1.0000 - val_loss: 0.0951 - val_accuracy: 1.0000\n"
          ],
          "name": "stdout"
        }
      ]
    },
    {
      "cell_type": "code",
      "metadata": {
        "colab": {
          "base_uri": "https://localhost:8080/"
        },
        "id": "EUhXpjMFtPOO",
        "outputId": "bcd9dce0-1f12-4f21-8a39-456c8b058b68"
      },
      "source": [
        "model.evaluate(X_test, Y_test)[1]"
      ],
      "execution_count": 22,
      "outputs": [
        {
          "output_type": "stream",
          "text": [
            "2/2 [==============================] - 0s 3ms/step - loss: 0.1057 - accuracy: 1.0000\n"
          ],
          "name": "stdout"
        },
        {
          "output_type": "execute_result",
          "data": {
            "text/plain": [
              "1.0"
            ]
          },
          "metadata": {
            "tags": []
          },
          "execution_count": 22
        }
      ]
    },
    {
      "cell_type": "code",
      "metadata": {
        "colab": {
          "base_uri": "https://localhost:8080/",
          "height": 295
        },
        "id": "5y6XUwv8t-g2",
        "outputId": "7513f6aa-146f-4342-8a3c-ffbf2a8d05b5"
      },
      "source": [
        "plt.plot(hist.history['loss'])\n",
        "plt.plot(hist.history['val_loss'])\n",
        "plt.title('Model loss')\n",
        "plt.ylabel('Loss')\n",
        "plt.xlabel('Epoch')\n",
        "plt.legend(['Train', 'Val'], loc='upper right')\n",
        "plt.show()"
      ],
      "execution_count": 23,
      "outputs": [
        {
          "output_type": "display_data",
          "data": {
            "image/png": "[encoded data removed]",
            "text/plain": [
              "<Figure size 432x288 with 1 Axes>"
            ]
          },
          "metadata": {
            "tags": [],
            "needs_background": "light"
          }
        }
      ]
    },
    {
      "cell_type": "code",
      "metadata": {
        "colab": {
          "base_uri": "https://localhost:8080/",
          "height": 295
        },
        "id": "34sD1X5fwpik",
        "outputId": "9483a47f-af3a-42a6-fd41-2fb10a090091"
      },
      "source": [
        "plt.plot(hist.history['accuracy'])\n",
        "plt.plot(hist.history['val_accuracy'])\n",
        "plt.title('--->Model accuracy<----')\n",
        "plt.ylabel('Accuracy')\n",
        "plt.xlabel('Epoch')\n",
        "plt.legend(['Train', 'Val'], loc='lower right')\n",
        "plt.show()"
      ],
      "execution_count": 26,
      "outputs": [
        {
          "output_type": "display_data",
          "data": {
            "image/png": "[encoded data removed]",
            "text/plain": [
              "<Figure size 432x288 with 1 Axes>"
            ]
          },
          "metadata": {
            "tags": [],
            "needs_background": "light"
          }
        }
      ]
    }
  ]
}